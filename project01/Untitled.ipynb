{
 "cells": [
  {
   "cell_type": "code",
   "execution_count": 1,
   "id": "3be83c94-f7ea-4ac9-97e5-affc92b4a6b7",
   "metadata": {},
   "outputs": [],
   "source": [
    "import pandas as pd\n",
    "import json\n",
    "import numpy as np\n",
    "import re\n",
    "import pickle\n",
    "class NpEncoder(json.JSONEncoder):\n",
    "    def default(self, obj):\n",
    "        if isinstance(obj, np.integer):\n",
    "            return int(obj)\n",
    "        if isinstance(obj, np.floating):\n",
    "            return float(obj)\n",
    "        return super(NpEncoder, self).default(obj)"
   ]
  },
  {
   "cell_type": "code",
   "execution_count": 2,
   "id": "efa5373a-ee84-4574-b204-2fe6b265fc28",
   "metadata": {},
   "outputs": [],
   "source": [
    "df = pd.read_csv('proj1_ex01.csv')\n",
    "df.head()\n",
    "dictlist = []\n",
    "for column_name in df:\n",
    "    dict = {}\n",
    "    dict.update({\"name\":column_name})\n",
    "    dict.update({\"missing\":(round((df[column_name].isnull().sum()/df.shape[0]), 2))})\n",
    "    type = df[column_name].dtype\n",
    "    if(\"float\" in str(type)):\n",
    "        dict.update({\"type\":\"float\"})\n",
    "    elif(\"int\" in str(type)):\n",
    "        dict.update({\"type\":\"int\"})\n",
    "    else:\n",
    "        dict.update({\"type\":\"other\"})\n",
    "    dictlist.append(dict)\n",
    "with open(\"proj1_ex01_fields.json\", \"w\") as final:\n",
    "    json.dump(dictlist, final, cls=NpEncoder)"
   ]
  },
  {
   "cell_type": "code",
   "execution_count": 3,
   "id": "d879bb95-2be8-4500-97bb-ab95c9db8642",
   "metadata": {},
   "outputs": [],
   "source": [
    "upper_dict = {}\n",
    "for column_name in df:\n",
    "    if(\"float\" in str(df[column_name].dtype) or \"int\" in str(df[column_name].dtype)): \n",
    "        dict = {}\n",
    "        dict.update({\"count\": (df.shape[0]-df[column_name].isnull().sum())})\n",
    "        dict.update({\"mean\":df[column_name].mean()})\n",
    "        dict.update({\"std\":df[column_name].std()})\n",
    "        dict.update({\"min\":df[column_name].min()})\n",
    "        dict.update({\"25%\":df[column_name].quantile(0.25)})\n",
    "        dict.update({\"50%\":df[column_name].quantile(0.5)})\n",
    "        dict.update({\"75%\":df[column_name].quantile(0.75)})\n",
    "        dict.update({\"max\":df[column_name].max()})\n",
    "        upper_dict.update({column_name: dict})\n",
    "    else:\n",
    "        dict = {}\n",
    "        dict.update({\"count\": (df.shape[0]-df[column_name].isnull().sum())})\n",
    "        dict.update({\"unique\":df[column_name].nunique()})\n",
    "        dict.update({\"top\":df[column_name].value_counts().idxmax()})\n",
    "        dict.update({\"freq\":df[column_name].value_counts().max()})\n",
    "        upper_dict.update({column_name: dict})\n",
    "with open(\"proj1_ex02_stats.json\", \"w\") as final2:\n",
    "    json.dump(upper_dict, final2, cls=NpEncoder)"
   ]
  },
  {
   "cell_type": "code",
   "execution_count": 4,
   "id": "12cc9fb8-1717-41d8-b9ed-e7b156f7dc75",
   "metadata": {},
   "outputs": [],
   "source": [
    "for column_name in df:\n",
    "    name = str(column_name)\n",
    "    name = name.lower().replace(\" \", \"_\")\n",
    "    iter = name\n",
    "    for i in range(0, len(iter)):\n",
    "        if not iter[i].isalnum() and iter[i]!=\"_\":\n",
    "            name = iter.replace(name[i],\"\")\n",
    "    df.rename(columns={column_name: name}, inplace=True)\n",
    "df.to_csv(\"proj1_ex03_columns.csv\", index=False)"
   ]
  },
  {
   "cell_type": "code",
   "execution_count": 5,
   "id": "e0ef090a-a8ed-4b0d-b94c-63397e3e7c3a",
   "metadata": {},
   "outputs": [
    {
     "name": "stdout",
     "output_type": "stream",
     "text": [
      "Requirement already satisfied: openpyxl in c:\\miniforge3\\lib\\site-packages (3.1.2)\n",
      "Requirement already satisfied: et-xmlfile in c:\\miniforge3\\lib\\site-packages (from openpyxl) (1.1.0)\n"
     ]
    }
   ],
   "source": [
    "#mozliwe ze trzeba korzystac wlasnie z tego nowego dataframa \n",
    "df.to_excel(\"proj1_ex04_excel.xlsx\", index=False)"
   ]
  },
  {
   "cell_type": "code",
   "execution_count": 6,
   "id": "5c1aa6eb-521f-4343-9552-bbb8d0eacb4f",
   "metadata": {},
   "outputs": [],
   "source": [
    "df.to_json(r'proj1_ex04_json.json', orient=\"records\")"
   ]
  },
  {
   "cell_type": "code",
   "execution_count": 7,
   "id": "6640644c-c602-4633-99f6-8030fe5667df",
   "metadata": {},
   "outputs": [],
   "source": [
    "df.to_pickle(\"proj1_ex04_pickle.pkl\")  "
   ]
  },
  {
   "cell_type": "code",
   "execution_count": 8,
   "id": "77a277e0-8e38-446e-979d-b6325afc2b7e",
   "metadata": {},
   "outputs": [
    {
     "data": {
      "text/html": [
       "<div>\n",
       "<style scoped>\n",
       "    .dataframe tbody tr th:only-of-type {\n",
       "        vertical-align: middle;\n",
       "    }\n",
       "\n",
       "    .dataframe tbody tr th {\n",
       "        vertical-align: top;\n",
       "    }\n",
       "\n",
       "    .dataframe thead th {\n",
       "        text-align: right;\n",
       "    }\n",
       "</style>\n",
       "<table border=\"1\" class=\"dataframe\">\n",
       "  <thead>\n",
       "    <tr style=\"text-align: right;\">\n",
       "      <th></th>\n",
       "      <th>name</th>\n",
       "      <th>description</th>\n",
       "      <th>age</th>\n",
       "    </tr>\n",
       "  </thead>\n",
       "  <tbody>\n",
       "    <tr>\n",
       "      <th>v</th>\n",
       "      <td>V</td>\n",
       "      <td>Freedom fighter</td>\n",
       "      <td>NaN</td>\n",
       "    </tr>\n",
       "    <tr>\n",
       "      <th>evey</th>\n",
       "      <td>Evey Hammond</td>\n",
       "      <td>Revolutionary</td>\n",
       "      <td>16.0</td>\n",
       "    </tr>\n",
       "    <tr>\n",
       "      <th>finch</th>\n",
       "      <td>Eric Finch</td>\n",
       "      <td>Police detective</td>\n",
       "      <td>40.0</td>\n",
       "    </tr>\n",
       "    <tr>\n",
       "      <th>creedy</th>\n",
       "      <td>Peter Creedy</td>\n",
       "      <td>Government official</td>\n",
       "      <td>49.0</td>\n",
       "    </tr>\n",
       "    <tr>\n",
       "      <th>gordon</th>\n",
       "      <td>Gordon Deitrich</td>\n",
       "      <td>Talk show host</td>\n",
       "      <td>38.0</td>\n",
       "    </tr>\n",
       "  </tbody>\n",
       "</table>\n",
       "</div>"
      ],
      "text/plain": [
       "                   name          description   age\n",
       "v                     V      Freedom fighter   NaN\n",
       "evey       Evey Hammond        Revolutionary  16.0\n",
       "finch        Eric Finch     Police detective  40.0\n",
       "creedy     Peter Creedy  Government official  49.0\n",
       "gordon  Gordon Deitrich       Talk show host  38.0"
      ]
     },
     "execution_count": 8,
     "metadata": {},
     "output_type": "execute_result"
    }
   ],
   "source": [
    "df2 = pd.read_pickle('proj1_ex05.pkl')\n",
    "df2.head()"
   ]
  },
  {
   "cell_type": "code",
   "execution_count": 9,
   "id": "d34feb3e-dad3-4498-a402-5e913b26bd97",
   "metadata": {},
   "outputs": [
    {
     "data": {
      "text/html": [
       "<div>\n",
       "<style scoped>\n",
       "    .dataframe tbody tr th:only-of-type {\n",
       "        vertical-align: middle;\n",
       "    }\n",
       "\n",
       "    .dataframe tbody tr th {\n",
       "        vertical-align: top;\n",
       "    }\n",
       "\n",
       "    .dataframe thead th {\n",
       "        text-align: right;\n",
       "    }\n",
       "</style>\n",
       "<table border=\"1\" class=\"dataframe\">\n",
       "  <thead>\n",
       "    <tr style=\"text-align: right;\">\n",
       "      <th></th>\n",
       "      <th>description</th>\n",
       "      <th>age</th>\n",
       "    </tr>\n",
       "  </thead>\n",
       "  <tbody>\n",
       "    <tr>\n",
       "      <th>v</th>\n",
       "      <td>Freedom fighter</td>\n",
       "      <td>NaN</td>\n",
       "    </tr>\n",
       "    <tr>\n",
       "      <th>valerie</th>\n",
       "      <td>Actress</td>\n",
       "      <td>NaN</td>\n",
       "    </tr>\n",
       "  </tbody>\n",
       "</table>\n",
       "</div>"
      ],
      "text/plain": [
       "             description  age\n",
       "v        Freedom fighter  NaN\n",
       "valerie          Actress  NaN"
      ]
     },
     "execution_count": 9,
     "metadata": {},
     "output_type": "execute_result"
    }
   ],
   "source": [
    "columns = df2.iloc[:, [1, 2]]\n",
    "vs = df2[df2.index.str.startswith('v')]\n",
    "combined = vs.iloc[:,[1,2]]\n",
    "combined.head()"
   ]
  },
  {
   "cell_type": "code",
   "execution_count": 10,
   "id": "837b90d5-36d7-4a43-99b6-2122f8e2a2d7",
   "metadata": {},
   "outputs": [
    {
     "name": "stdout",
     "output_type": "stream",
     "text": [
      "Requirement already satisfied: tabulate in c:\\miniforge3\\lib\\site-packages (0.9.0)\n"
     ]
    }
   ],
   "source": [
    "markdown_table = combined.to_markdown().replace('nan', '')\n",
    "with open(\"proj1_ex05_table.md\", 'w') as file:\n",
    "    file.write(markdown_table)"
   ]
  },
  {
   "cell_type": "code",
   "execution_count": 11,
   "id": "a4dc0d34-afbe-4923-82f0-0903d956ba36",
   "metadata": {},
   "outputs": [],
   "source": [
    "js = json.load(open(\"proj1_ex06.json\"))\n",
    "js = pd.json_normalize(js)\n",
    "js.to_pickle(\"proj1_ex06_pickle.pkl\")  "
   ]
  }
 ],
 "metadata": {
  "kernelspec": {
   "display_name": "Python 3 (ipykernel)",
   "language": "python",
   "name": "python3"
  },
  "language_info": {
   "codemirror_mode": {
    "name": "ipython",
    "version": 3
   },
   "file_extension": ".py",
   "mimetype": "text/x-python",
   "name": "python",
   "nbconvert_exporter": "python",
   "pygments_lexer": "ipython3",
   "version": "3.10.13"
  }
 },
 "nbformat": 4,
 "nbformat_minor": 5
}
